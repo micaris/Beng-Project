{
 "cells": [
  {
   "cell_type": "code",
   "execution_count": 1,
   "metadata": {},
   "outputs": [],
   "source": [
    "import pandas as pd\n",
    "import matplotlib.pyplot as plt\n",
    "import numpy as np\n",
    "import math"
   ]
  },
  {
   "cell_type": "code",
   "execution_count": 2,
   "metadata": {},
   "outputs": [],
   "source": [
    "df = pd.read_csv(\"anscombes.csv\")"
   ]
  },
  {
   "cell_type": "code",
   "execution_count": 3,
   "metadata": {},
   "outputs": [],
   "source": [
    "df1 = df[df['dataset'] == 'I']\n",
    "x1, y1 = df1['x'].to_numpy(), df1['y'].to_numpy()\n",
    "df2 = df[df['dataset'] == 'II']\n",
    "x2, y2 = df2['x'].to_numpy(), df2['y'].to_numpy()\n",
    "df3 = df[df['dataset'] == 'III']\n",
    "x3, y3 = df3['x'].to_numpy(), df3['y'].to_numpy()\n",
    "df4 = df[df['dataset'] == 'IV']\n",
    "x4, y4 = df4['x'].to_numpy(), df4['y'].to_numpy()"
   ]
  },
  {
   "cell_type": "code",
   "execution_count": 4,
   "metadata": {},
   "outputs": [
    {
     "data": {
      "image/png": "[encoded data removed]",
      "text/plain": [
       "<Figure size 432x288 with 4 Axes>"
      ]
     },
     "metadata": {
      "needs_background": "light"
     },
     "output_type": "display_data"
    }
   ],
   "source": [
    "#print(df1, df2, df3, df4)\n",
    "fig, axis = plt.subplots(2,2)\n",
    "#dataset 1\n",
    "axis[0, 0].scatter(x1, y1, color='red')\n",
    "coef1 = np.polyfit(x1,y1,1)\n",
    "poly1d_fn = np.poly1d(coef1) \n",
    "axis[0, 0].plot(x1, poly1d_fn(x1), color='black')\n",
    "axis[0, 0].set_title('Dataset 1')\n",
    "\n",
    "#dataset 1\n",
    "axis[0, 1].scatter(x2, y2, color='green')\n",
    "coef2 = np.polyfit(x2,y2,1)\n",
    "poly1d_fn = np.poly1d(coef2) \n",
    "axis[0, 1].plot(x2, poly1d_fn(x2), color='black')\n",
    "axis[0, 1].set_title('Dataset 2')\n",
    "\n",
    "#dataset 1\n",
    "axis[1, 0].scatter(x3, y3, color='blue')\n",
    "coef3 = np.polyfit(x3,y3,1)\n",
    "poly1d_fn = np.poly1d(coef3) \n",
    "axis[1, 0].plot(x3, poly1d_fn(x3), color='black')\n",
    "axis[1, 0].set_title('Dataset 3')\n",
    "\n",
    "#dataset 1\n",
    "axis[1, 1].scatter(x4, y4, color='black')\n",
    "coef4 = np.polyfit(x4,y4,1)\n",
    "poly1d_fn = np.poly1d(coef4) \n",
    "axis[1, 1].plot(x4, poly1d_fn(x4), color='black')\n",
    "axis[1, 1].set_title('Dataset 4')\n",
    "\n",
    "plt.subplots_adjust(wspace=0.5, hspace=0.5)"
   ]
  },
  {
   "cell_type": "code",
   "execution_count": 5,
   "metadata": {},
   "outputs": [
    {
     "name": "stdout",
     "output_type": "stream",
     "text": [
      "[0.50009091 3.00009091] [0.5        3.00090909] [0.49972727 3.00245455] [0.49990909 3.00172727]\n",
      "9.0 7.500909090909093\n"
     ]
    }
   ],
   "source": [
    "print(coef1, coef2, coef3, coef4)\n",
    "\n",
    "x1m = df1.x.mean()\n",
    "y1m = df1.y.mean()\n",
    "print(x1m, y1m)"
   ]
  },
  {
   "cell_type": "code",
   "execution_count": 6,
   "metadata": {},
   "outputs": [],
   "source": [
    "#Implementing turing learning algorithm to generat unique datasets\n",
    "\n",
    "def get_values(df):\n",
    "    \"\"\"\n",
    "    Calculates the summary statistics for the given dataset\n",
    "    Args: df (pd.DataFrame): A DataFrame with x and y columns\n",
    "    Returns: list: [x-mean, y-mean, x-stdev, y-stdev, correlation]\n",
    "    \"\"\"\n",
    "    xm = df.x.mean()\n",
    "    ym = df.y.mean()\n",
    "    xsd = df.x.std()\n",
    "    ysd = df.y.std()\n",
    "    pc = df.corr().x.y\n",
    "\n",
    "    return [xm, ym, xsd, ysd, pc]\n"
   ]
  },
  {
   "cell_type": "code",
   "execution_count": 7,
   "metadata": {},
   "outputs": [],
   "source": [
    "def is_error_still_ok(df1, df2, decimals=2):\n",
    "    \"\"\"Checks to see if the statistics are still within the acceptable bounds\n",
    "    Args:\n",
    "        df1 (pd.DataFrame): The original data set\n",
    "        df2 (pd.DataFrame): The test data set\n",
    "        decimals (int):     The number of decimals of precision to check\n",
    "    Returns: bool: ``True`` if the maximum error is acceptable, ``False`` otherwise\n",
    "    \"\"\"\n",
    "    r1 = get_values(df1)\n",
    "    r2 = get_values(df2)\n",
    "\n",
    "    # check each of the error values to check if they are the same to the\n",
    "    # correct number of decimals\n",
    "    r1 = [math.floor(r * 10**decimals) for r in r1]\n",
    "    r2 = [math.floor(r * 10**decimals) for r in r2]\n",
    "\n",
    "    # we are good if r1 and r2 have the same numbers\n",
    "    er = np.subtract(r1, r2)\n",
    "    er = [abs(n) for n in er]\n",
    "\n",
    "    return np.max(er) == 0"
   ]
  },
  {
   "cell_type": "code",
   "execution_count": 8,
   "metadata": {},
   "outputs": [],
   "source": [
    "def save_scatter(df, iteration, dp=72):\n",
    "    \"\"\"Save the plot to an image file\n",
    "    Args:\n",
    "        df (pd.DataFrame):  The data set to plot\n",
    "        iteration (int):    The iteration count\n",
    "        dp (int):           The DPI of the plot\n",
    "    \"\"\"\n",
    "    show_scatter(df)\n",
    "    plt.savefig('{}.png'.format(iteration), dpi=dp)\n",
    "    plt.clf()\n",
    "    plt.cla()\n",
    "    plt.close()"
   ]
  },
  {
   "cell_type": "code",
   "execution_count": 9,
   "metadata": {},
   "outputs": [],
   "source": [
    "def save_scatter_and_results(df, iteration, dp=72):\n",
    "    \"\"\"Save the plot with statistical summary embedded to an image file\n",
    "    Args:\n",
    "        df (pd.DataFrame):  The data set to plot\n",
    "        iteration (int):    The iteration count\n",
    "        dp (int):           The DPI of the plot\n",
    "    \"\"\"\n",
    "    show_scatter_and_results(df)\n",
    "    plt.savefig(str(iteration) + \".png\", dpi=dp)\n",
    "    plt.clf()\n",
    "    plt.cla()\n",
    "    plt.close()"
   ]
  },
  {
   "cell_type": "code",
   "execution_count": 10,
   "metadata": {},
   "outputs": [],
   "source": [
    "def print_stats(df_list):\n",
    "    for i in range(0,len(df_list)):\n",
    "        print('------DATASET {}-------'.format(i))\n",
    "        print(\"N: \", len(df))\n",
    "        print(\"X mean: \", df.x.mean())\n",
    "        print(\"X SD: \", df.x.std())\n",
    "        print(\"Y mean: \", df.y.mean())\n",
    "        print(\"Y SD: \", df.y.std())\n",
    "        print(\"Pearson correlation: \", df.corr().x.y)\n"
   ]
  },
  {
   "cell_type": "code",
   "execution_count": 11,
   "metadata": {},
   "outputs": [],
   "source": [
    "#df_list = [df1, df2, df3, df4]\n",
    "#print_stats(df_list)\n",
    "#print(np.ones((11,1)))"
   ]
  },
  {
   "cell_type": "code",
   "execution_count": 12,
   "metadata": {},
   "outputs": [
    {
     "name": "stdout",
     "output_type": "stream",
     "text": [
      "[[ 5.89305552  8.30330349]\n",
      " [ 6.11156407  9.18244243]\n",
      " [ 4.19553644  6.42981023]\n",
      " [ 6.79253809 10.62266977]\n",
      " [ 2.3426459   8.61866183]\n",
      " [10.2448742   7.28938298]\n",
      " [ 1.69134008  1.99180777]\n",
      " [ 2.91360522  9.52305121]\n",
      " [ 7.41663605  3.34727393]\n",
      " [ 2.88848456  6.28446118]\n",
      " [ 5.10944915  6.22339279]]\n"
     ]
    }
   ],
   "source": [
    "population_size = (10,11,2)\n",
    "new_population = np.random.uniform(low=1, high=12, size=population_size)\n",
    "#print(new_population[0])\n",
    "#ones = np.ones((11,1))*new_population[0].mean()\n",
    "print(new_population[0])\n"
   ]
  },
  {
   "cell_type": "code",
   "execution_count": 13,
   "metadata": {},
   "outputs": [
    {
     "name": "stdout",
     "output_type": "stream",
     "text": [
      "[-0.01948949  0.25093162]\n"
     ]
    }
   ],
   "source": [
    "#print_stats(new_population)\n",
    "def set_mean_to_zero(old_pop):\n",
    "    for i in range(0, len(old_pop)):\n",
    "        ones = np.ones((11,1))*new_population[i].mean()\n",
    "        old_pop[i] = old_pop[i] - ones\n",
    "    return old_pop\n",
    "\n",
    "def orthnormalise_population(old_pop):\n",
    "    for z in range(0, len(old_pop[1])):\n",
    "        X = np.zeros(old_pop[z].shape)\n",
    "        for i in range(X.shape[1]):\n",
    "            # orthogonalization\n",
    "            vector = old_pop[z][:, i]\n",
    "            space = X[:, :i]\n",
    "            projection = vector @ space\n",
    "            vector = vector - np.sum(projection * space, axis=1)\n",
    "            # normalization\n",
    "            norm = np.sqrt(vector @ vector)\n",
    "            vector /= abs(norm) < 1e-8 and 1 or norm\n",
    "\n",
    "            X[:, i] = vector\n",
    "        return X\n",
    "    \n",
    "\n",
    "def preprocess_new_population(new_pop):\n",
    "    pop = new_pop.copy()\n",
    "    pop = set_mean_to_zero(pop)\n",
    "    \n",
    "    pop = orthnormalise_population(pop)\n",
    "    return pop\n",
    "\n",
    "ortho_pop = preprocess_new_population(new_population)\n",
    "print(ortho_pop[0])"
   ]
  },
  {
   "cell_type": "code",
   "execution_count": 32,
   "metadata": {},
   "outputs": [
    {
     "name": "stdout",
     "output_type": "stream",
     "text": [
      "[[ 1.9208   1.029    5.3116   0.1862   2.6166   3.9592  -1.2152  -0.2548\n",
      "   1.1368   2.1364  -0.6664 ]\n",
      " [ 1.029    0.55125  2.8455   0.09975  1.40175  2.121   -0.651   -0.1365\n",
      "   0.609    1.1445  -0.357  ]\n",
      " [ 5.3116   2.8455  14.6882   0.5149   7.2357  10.9484  -3.3604  -0.7046\n",
      "   3.1436   5.9078  -1.8428 ]\n",
      " [ 0.1862   0.09975  0.5149   0.01805  0.25365  0.3838  -0.1178  -0.0247\n",
      "   0.1102   0.2071  -0.0646 ]\n",
      " [ 2.6166   1.40175  7.2357   0.25365  3.56445  5.3934  -1.6554  -0.3471\n",
      "   1.5486   2.9103  -0.9078 ]\n",
      " [ 3.9592   2.121   10.9484   0.3838   5.3934   8.1608  -2.5048  -0.5252\n",
      "   2.3432   4.4036  -1.3736 ]\n",
      " [-1.2152  -0.651   -3.3604  -0.1178  -1.6554  -2.5048   0.7688   0.1612\n",
      "  -0.7192  -1.3516   0.4216 ]\n",
      " [-0.2548  -0.1365  -0.7046  -0.0247  -0.3471  -0.5252   0.1612   0.0338\n",
      "  -0.1508  -0.2834   0.0884 ]\n",
      " [ 1.1368   0.609    3.1436   0.1102   1.5486   2.3432  -0.7192  -0.1508\n",
      "   0.6728   1.2644  -0.3944 ]\n",
      " [ 2.1364   1.1445   5.9078   0.2071   2.9103   4.4036  -1.3516  -0.2834\n",
      "   1.2644   2.3762  -0.7412 ]\n",
      " [-0.6664  -0.357   -1.8428  -0.0646  -0.9078  -1.3736   0.4216   0.0884\n",
      "  -0.3944  -0.7412   0.2312 ]]\n",
      "[[ 7.63414272 14.63031879]\n",
      " [ 7.75740509 13.76538695]\n",
      " [ 7.44924917 14.26530168]\n",
      " [ 7.6957739  15.24132569]\n",
      " [ 7.57251154 14.86043827]\n",
      " [ 7.38761799 16.15386846]\n",
      " [ 7.88066745 13.99550643]\n",
      " [ 8.00392982 11.63083038]\n",
      " [ 7.51088036 16.85216206]\n",
      " [ 7.81903627 12.07519903]\n",
      " [ 7.94229863 12.75762232]]\n"
     ]
    }
   ],
   "source": [
    "X = new_population[0]\n",
    "z = np.array(df1[['x', 'y']])\n",
    "print(np.cov(z))\n",
    "print(math.sqrt(10)*ortho_pop[0]*z + np.ones((11,1))*z.mean())\n",
    "def transform(pop,X_org):\n",
    "    for x in range(0, len(pop[1])):\n",
    "        pop[x] = math.sqrt(10)*ortho_pop[0]*z + np.ones((11,1))*z.mean()\n",
    "    return pop\n",
    "\n",
    "#print(new_population[0])"
   ]
  },
  {
   "cell_type": "code",
   "execution_count": null,
   "metadata": {},
   "outputs": [],
   "source": [
    "\n"
   ]
  },
  {
   "cell_type": "code",
   "execution_count": null,
   "metadata": {},
   "outputs": [],
   "source": []
  }
 ],
 "metadata": {
  "kernelspec": {
   "display_name": "Python 3",
   "language": "python",
   "name": "python3"
  },
  "language_info": {
   "codemirror_mode": {
    "name": "ipython",
    "version": 3
   },
   "file_extension": ".py",
   "mimetype": "text/x-python",
   "name": "python",
   "nbconvert_exporter": "python",
   "pygments_lexer": "ipython3",
   "version": "3.7.4"
  }
 },
 "nbformat": 4,
 "nbformat_minor": 2
}
