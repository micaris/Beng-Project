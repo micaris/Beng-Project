{
 "cells": [
  {
   "cell_type": "code",
   "execution_count": null,
   "metadata": {},
   "outputs": [],
   "source": [
    "import pandas as pd\n",
    "import seaborn as sns\n",
    "import matplotlib.pyplot as plt\n",
    "import numpy as np\n",
    "import math\n",
    "\n",
    "%matplotlib inline"
   ]
  },
  {
   "cell_type": "code",
   "execution_count": null,
   "metadata": {},
   "outputs": [],
   "source": [
    "df = pd.read_csv(\"datasets/anscombes.csv\")"
   ]
  },
  {
   "cell_type": "code",
   "execution_count": null,
   "metadata": {},
   "outputs": [],
   "source": [
    "df1 = df[df['dataset'] == 'I']\n",
    "x1, y1 = df1['x'].to_numpy(), df1['y'].to_numpy()\n",
    "df2 = df[df['dataset'] == 'II']\n",
    "x2, y2 = df2['x'].to_numpy(), df2['y'].to_numpy()\n",
    "df3 = df[df['dataset'] == 'III']\n",
    "x3, y3 = df3['x'].to_numpy(), df3['y'].to_numpy()\n",
    "df4 = df[df['dataset'] == 'IV']\n",
    "x4, y4 = df4['x'].to_numpy(), df4['y'].to_numpy()"
   ]
  },
  {
   "cell_type": "code",
   "execution_count": null,
   "metadata": {},
   "outputs": [],
   "source": [
    "#print(df1, df2, df3, df4)\n",
    "fig, axis = plt.subplots(2,2)\n",
    "#dataset 1\n",
    "axis[0, 0].scatter(x1, y1, color='red')\n",
    "coef1 = np.polyfit(x1,y1,1)\n",
    "poly1d_fn = np.poly1d(coef1) \n",
    "axis[0, 0].plot(x1, poly1d_fn(x1), color='black')\n",
    "axis[0, 0].set_title('Dataset 1')\n",
    "\n",
    "#dataset 1\n",
    "axis[0, 1].scatter(x2, y2, color='green')\n",
    "coef2 = np.polyfit(x2,y2,1)\n",
    "poly1d_fn = np.poly1d(coef2) \n",
    "axis[0, 1].plot(x2, poly1d_fn(x2), color='black')\n",
    "axis[0, 1].set_title('Dataset 2')\n",
    "\n",
    "#dataset 1\n",
    "axis[1, 0].scatter(x3, y3, color='blue')\n",
    "coef3 = np.polyfit(x3,y3,1)\n",
    "poly1d_fn = np.poly1d(coef3) \n",
    "axis[1, 0].plot(x3, poly1d_fn(x3), color='black')\n",
    "axis[1, 0].set_title('Dataset 3')\n",
    "\n",
    "#dataset 1\n",
    "axis[1, 1].scatter(x4, y4, color='black')\n",
    "coef4 = np.polyfit(x4,y4,1)\n",
    "poly1d_fn = np.poly1d(coef4) \n",
    "axis[1, 1].plot(x4, poly1d_fn(x4), color='black')\n",
    "axis[1, 1].set_title('Dataset 4')\n",
    "\n",
    "plt.subplots_adjust(wspace=0.5, hspace=0.5)"
   ]
  },
  {
   "cell_type": "code",
   "execution_count": null,
   "metadata": {},
   "outputs": [],
   "source": [
    "print(coef1, coef2, coef3, coef4)\n",
    "\n",
    "x1m = df1.x.mean()\n",
    "y1m = df1.y.mean()\n",
    "print(x1m, y1m)"
   ]
  },
  {
   "cell_type": "code",
   "execution_count": null,
   "metadata": {},
   "outputs": [],
   "source": [
    "df.head()"
   ]
  },
  {
   "cell_type": "code",
   "execution_count": null,
   "metadata": {},
   "outputs": [],
   "source": [
    "#creating box plot\n",
    "sns.set(style=\"whitegrid\")\n",
    "tips = sns.boxplot(x= 'dataset', y = 'x', data = df)"
   ]
  },
  {
   "cell_type": "code",
   "execution_count": null,
   "metadata": {},
   "outputs": [],
   "source": [
    "import SimAnn\n",
    "from multiprocessing import Process\n",
    "\n",
    "\n",
    "\n",
    "Test1 = SimAnn.SimulatedAnnealing(iters = 100)\n",
    "Test2 = SimAnn.SimulatedAnnealing(iters= 200)\n",
    "Test3 = SimAnn.SimulatedAnnealing(iters= 300)\n",
    "Test4 = SimAnn.SimulatedAnnealing(iters= 320)\n"
   ]
  },
  {
   "cell_type": "code",
   "execution_count": null,
   "metadata": {},
   "outputs": [],
   "source": [
    "Test4.run()"
   ]
  },
  {
   "cell_type": "code",
   "execution_count": null,
   "metadata": {},
   "outputs": [],
   "source": [
    "Test3._ERROR[-1]"
   ]
  },
  {
   "cell_type": "code",
   "execution_count": null,
   "metadata": {},
   "outputs": [],
   "source": [
    "Test1.run()"
   ]
  },
  {
   "cell_type": "code",
   "execution_count": null,
   "metadata": {},
   "outputs": [],
   "source": [
    "print(Test3.op_ds)"
   ]
  },
  {
   "cell_type": "code",
   "execution_count": null,
   "metadata": {},
   "outputs": [],
   "source": [
    "def runInParallel(*fns):\n",
    "  proc = []\n",
    "  for fn in fns:\n",
    "    p = Process(target=fn)\n",
    "    p.start()\n",
    "    proc.append(p)\n",
    "  for p in proc:\n",
    "    p.join()\n",
    "\n",
    "runInParallel(Test1.run, Test2.run, Test3.run, Test4.run)"
   ]
  },
  {
   "cell_type": "code",
   "execution_count": null,
   "metadata": {},
   "outputs": [],
   "source": [
    "plt.show()"
   ]
  },
  {
   "cell_type": "code",
   "execution_count": null,
   "metadata": {},
   "outputs": [],
   "source": [
    "\n",
    "\n",
    "\n",
    "\n",
    "\n",
    "\n",
    "\n",
    "\n",
    "\n",
    "\n",
    "\n",
    "\n",
    "\n",
    "\n",
    "\n",
    "\n",
    "\n",
    "\n",
    "\n",
    "\n",
    "\n",
    "\n",
    "\n"
   ]
  }
 ],
 "metadata": {
  "kernelspec": {
   "display_name": "Python 3",
   "language": "python",
   "name": "python3"
  },
  "language_info": {
   "codemirror_mode": {
    "name": "ipython",
    "version": 3
   },
   "file_extension": ".py",
   "mimetype": "text/x-python",
   "name": "python",
   "nbconvert_exporter": "python",
   "pygments_lexer": "ipython3",
   "version": "3.7.4-final"
  }
 },
 "nbformat": 4,
 "nbformat_minor": 2
}